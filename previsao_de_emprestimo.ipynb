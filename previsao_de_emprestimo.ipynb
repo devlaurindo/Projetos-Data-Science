{
  "nbformat": 4,
  "nbformat_minor": 0,
  "metadata": {
    "colab": {
      "name": "previsao-de-emprestimo.ipynb",
      "provenance": [],
      "collapsed_sections": [],
      "authorship_tag": "ABX9TyMR0rJ4ZUGmwA0NhunX54Gb",
      "include_colab_link": true
    },
    "kernelspec": {
      "name": "python3",
      "display_name": "Python 3"
    },
    "language_info": {
      "name": "python"
    }
  },
  "cells": [
    {
      "cell_type": "markdown",
      "metadata": {
        "id": "view-in-github",
        "colab_type": "text"
      },
      "source": [
        "<a href=\"https://colab.research.google.com/github/devlaurindo/projetos-data-science/blob/main/previsao_de_emprestimo.ipynb\" target=\"_parent\"><img src=\"https://colab.research.google.com/assets/colab-badge.svg\" alt=\"Open In Colab\"/></a>"
      ]
    },
    {
      "cell_type": "markdown",
      "metadata": {
        "id": "Pq6WLMBSFSBx"
      },
      "source": [
        "# **Dados de previsão de empréstimo**"
      ]
    },
    {
      "cell_type": "markdown",
      "metadata": {
        "id": "yWgqNxkGGiLr"
      },
      "source": [
        "Importando as Bibliotecas necessarias"
      ]
    },
    {
      "cell_type": "code",
      "metadata": {
        "id": "8gI-2n9_DiGe"
      },
      "source": [
        "import pandas as pd\n",
        "from sklearn.linear_model import LogisticRegression\n",
        "from sklearn.model_selection import train_test_split\n",
        "from sklearn.preprocessing import LabelEncoder\n",
        "from sklearn.metrics import accuracy_score"
      ],
      "execution_count": 1,
      "outputs": []
    },
    {
      "cell_type": "markdown",
      "metadata": {
        "id": "2EcVMl8yGo3i"
      },
      "source": [
        "Importando o dataset "
      ]
    },
    {
      "cell_type": "code",
      "metadata": {
        "colab": {
          "base_uri": "https://localhost:8080/"
        },
        "id": "Aa7kez6qDr7a",
        "outputId": "3bf0a65f-b7c6-4ed5-f6f1-57ee554932f7"
      },
      "source": [
        "data = pd.read_csv('train_ctrUa4K.csv')\n",
        "print(data.head())\n",
        "\n",
        "print('\\n\\nColumn Names\\n\\n')\n",
        "print(data.columns)"
      ],
      "execution_count": 2,
      "outputs": [
        {
          "output_type": "stream",
          "text": [
            "    Loan_ID Gender Married  ... Credit_History Property_Area Loan_Status\n",
            "0  LP001002   Male      No  ...            1.0         Urban           Y\n",
            "1  LP001003   Male     Yes  ...            1.0         Rural           N\n",
            "2  LP001005   Male     Yes  ...            1.0         Urban           Y\n",
            "3  LP001006   Male     Yes  ...            1.0         Urban           Y\n",
            "4  LP001008   Male      No  ...            1.0         Urban           Y\n",
            "\n",
            "[5 rows x 13 columns]\n",
            "\n",
            "\n",
            "Column Names\n",
            "\n",
            "\n",
            "Index(['Loan_ID', 'Gender', 'Married', 'Dependents', 'Education',\n",
            "       'Self_Employed', 'ApplicantIncome', 'CoapplicantIncome', 'LoanAmount',\n",
            "       'Loan_Amount_Term', 'Credit_History', 'Property_Area', 'Loan_Status'],\n",
            "      dtype='object')\n"
          ],
          "name": "stdout"
        }
      ]
    },
    {
      "cell_type": "markdown",
      "metadata": {
        "id": "iYYwCgVZHD2C"
      },
      "source": [
        "Aplicando uma variavel"
      ]
    },
    {
      "cell_type": "code",
      "metadata": {
        "id": "NiWQmqAKDt8I"
      },
      "source": [
        "encode = LabelEncoder()\n",
        "data.Loan_Status = encode.fit_transform(data.Loan_Status)"
      ],
      "execution_count": 3,
      "outputs": []
    },
    {
      "cell_type": "markdown",
      "metadata": {
        "id": "CqdZ0DGFHJtJ"
      },
      "source": [
        "dropando os valores nulos da tabela"
      ]
    },
    {
      "cell_type": "code",
      "metadata": {
        "id": "QDS-JYTADw7E"
      },
      "source": [
        "data.dropna(how='any',inplace=True)"
      ],
      "execution_count": 4,
      "outputs": []
    },
    {
      "cell_type": "markdown",
      "metadata": {
        "id": "fK2VdnZAHQrf"
      },
      "source": [
        "Aplicando os teste utilizando train_test_split"
      ]
    },
    {
      "cell_type": "code",
      "metadata": {
        "id": "WS9uTnPwD0Ji"
      },
      "source": [
        "train , test = train_test_split(data,test_size=0.2,random_state=0)"
      ],
      "execution_count": 5,
      "outputs": []
    },
    {
      "cell_type": "markdown",
      "metadata": {
        "id": "4bvxU3h6HbkT"
      },
      "source": [
        "Separando as variaveis independentes "
      ]
    },
    {
      "cell_type": "code",
      "metadata": {
        "id": "tAQEG1YWD06k"
      },
      "source": [
        "train_x = train.drop(columns=['Loan_ID','Loan_Status'],axis=1)\n",
        "train_y = train['Loan_Status']\n",
        "\n",
        "test_x = test.drop(columns=['Loan_ID','Loan_Status'],axis=1)\n",
        "test_y = test['Loan_Status']"
      ],
      "execution_count": 6,
      "outputs": []
    },
    {
      "cell_type": "markdown",
      "metadata": {
        "id": "fpMKzrSzHkFH"
      },
      "source": [
        "Codificando os dados"
      ]
    },
    {
      "cell_type": "code",
      "metadata": {
        "colab": {
          "base_uri": "https://localhost:8080/"
        },
        "id": "3nEyXhczD29n",
        "outputId": "2f9bc52a-876a-42d9-88ed-ef6adb84bd33"
      },
      "source": [
        "train_x = pd.get_dummies(train_x)\n",
        "test_x  = pd.get_dummies(test_x)\n",
        "\n",
        "print('shape of training data : ',train_x.shape)\n",
        "print('shape of testing data : ',test_x.shape)"
      ],
      "execution_count": 7,
      "outputs": [
        {
          "output_type": "stream",
          "text": [
            "shape of training data :  (384, 20)\n",
            "shape of testing data :  (96, 20)\n"
          ],
          "name": "stdout"
        }
      ]
    },
    {
      "cell_type": "markdown",
      "metadata": {
        "id": "_zhpjZ_YHqCl"
      },
      "source": [
        "Criando um objeto de modelo de Regressao"
      ]
    },
    {
      "cell_type": "code",
      "metadata": {
        "colab": {
          "base_uri": "https://localhost:8080/"
        },
        "id": "vTt-7kH6D6ez",
        "outputId": "63535d93-8385-4128-9212-1e63037829e6"
      },
      "source": [
        "model = LogisticRegression()\n",
        "\n",
        "model.fit(train_x,train_y)\n",
        "\n",
        "predict = model.predict(test_x)\n",
        "\n",
        "print('Predicted Values on Test Data',predict)\n",
        "\n",
        "print('\\n\\nAccuracy Score on test data : \\n\\n')\n",
        "print(accuracy_score(test_y,predict))"
      ],
      "execution_count": 8,
      "outputs": [
        {
          "output_type": "stream",
          "text": [
            "Predicted Values on Test Data [1 1 1 1 1 1 1 1 1 1 1 1 0 1 1 1 1 1 0 1 1 1 1 1 0 1 1 1 1 1 1 1 1 1 1 1 1\n",
            " 1 1 0 1 1 1 1 1 1 1 1 1 1 1 1 1 1 1 1 0 0 0 0 1 1 1 1 1 1 1 1 1 1 1 1 1 1\n",
            " 1 1 1 1 1 1 1 1 1 0 1 1 0 1 1 0 1 0 0 1 1 1]\n",
            "\n",
            "\n",
            "Accuracy Score on test data : \n",
            "\n",
            "\n",
            "0.7291666666666666\n"
          ],
          "name": "stdout"
        },
        {
          "output_type": "stream",
          "text": [
            "/usr/local/lib/python3.7/dist-packages/sklearn/linear_model/_logistic.py:940: ConvergenceWarning: lbfgs failed to converge (status=1):\n",
            "STOP: TOTAL NO. of ITERATIONS REACHED LIMIT.\n",
            "\n",
            "Increase the number of iterations (max_iter) or scale the data as shown in:\n",
            "    https://scikit-learn.org/stable/modules/preprocessing.html\n",
            "Please also refer to the documentation for alternative solver options:\n",
            "    https://scikit-learn.org/stable/modules/linear_model.html#logistic-regression\n",
            "  extra_warning_msg=_LOGISTIC_SOLVER_CONVERGENCE_MSG)\n"
          ],
          "name": "stderr"
        }
      ]
    }
  ]
}